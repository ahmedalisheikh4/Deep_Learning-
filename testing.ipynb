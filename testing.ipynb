{
  "nbformat": 4,
  "nbformat_minor": 0,
  "metadata": {
    "colab": {
      "provenance": []
    },
    "kernelspec": {
      "name": "python3",
      "display_name": "Python 3"
    },
    "language_info": {
      "name": "python"
    }
  },
  "cells": [
    {
      "cell_type": "code",
      "execution_count": null,
      "metadata": {
        "colab": {
          "base_uri": "https://localhost:8080/"
        },
        "id": "j_NTT4RGHo6V",
        "outputId": "949ed561-ee40-4ffe-ed08-59e90db1295a"
      },
      "outputs": [
        {
          "output_type": "stream",
          "name": "stderr",
          "text": [
            "WARNING:absl:Compiled the loaded model, but the compiled metrics have yet to be built. `model.compile_metrics` will be empty until you train or evaluate the model.\n"
          ]
        },
        {
          "output_type": "stream",
          "name": "stdout",
          "text": [
            "\u001b[1m1/1\u001b[0m \u001b[32m━━━━━━━━━━━━━━━━━━━━\u001b[0m\u001b[37m\u001b[0m \u001b[1m0s\u001b[0m 175ms/step\n",
            "Predicted class: freshapple\n",
            "Confidence scores: [[5.6184304e-01 8.2016103e-03 5.6618184e-02 1.1048367e-03 4.4835871e-03\n",
            "  3.0888176e-01 4.4653127e-03 2.2624154e-02 1.0201195e-03 3.0753942e-02\n",
            "  1.7266827e-06 1.7077108e-06]]\n"
          ]
        }
      ],
      "source": [
        "import numpy as np\n",
        "import tensorflow as tf\n",
        "from tensorflow.keras.preprocessing import image\n",
        "from tensorflow.keras.models import load_model\n",
        "\n",
        "# Load the model\n",
        "model = load_model('/content/sample_data/mymodel1.h5')\n",
        "\n",
        "# Define class names in the same order used during training\n",
        "class_names = ['freshapple', 'freshbananas', 'freshoranges', 'freshpotatoes',\n",
        "                'freshtomatoes', 'rottenapples', 'rottenbananas',\n",
        "                'rottenoranges', 'rottenpotatoes', 'rottentomatoes']\n",
        "\n",
        "# Load and preprocess the image\n",
        "img_path = '/content/sample_data/a.jpg'  # <-- replace with your image path\n",
        "img = image.load_img(img_path, target_size=(227, 227))\n",
        "img_array = image.img_to_array(img)\n",
        "img_array = img_array / 255.0  # Normalize\n",
        "img_array = np.expand_dims(img_array, axis=0)  # Add batch dimension (1, 227, 227, 3)\n",
        "\n",
        "# Make prediction\n",
        "predictions = model.predict(img_array)\n",
        "predicted_index = np.argmax(predictions)\n",
        "predicted_label = class_names[predicted_index]\n",
        "\n",
        "# Output results\n",
        "print(f\"Predicted class: {predicted_label}\")\n",
        "print(f\"Confidence scores: {predictions}\")\n"
      ]
    }
  ]
}